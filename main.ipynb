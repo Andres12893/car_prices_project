{
 "cells": [
  {
   "cell_type": "code",
   "execution_count": 1,
   "metadata": {},
   "outputs": [],
   "source": [
    "import pandas as pd\n",
    "import psycopg2\n",
    "from dotenv import load_dotenv\n",
    "from io import StringIO\n",
    "import os"
   ]
  },
  {
   "cell_type": "code",
   "execution_count": 2,
   "metadata": {},
   "outputs": [],
   "source": [
    "# Leer los datos\n",
    "df = pd.read_csv(f\"car_prices.csv\")"
   ]
  },
  {
   "cell_type": "code",
   "execution_count": 4,
   "metadata": {},
   "outputs": [],
   "source": [
    "#Itero sobre columnas float para convertirlas en INT\n",
    "columnas_iterar = ['condition','odometer','mmr','sellingprice']\n",
    "\n",
    "for columna in columnas_iterar:\n",
    "    # Verificar si hay valores nulos antes de llenarlos\n",
    "    if df[columna].isnull().any():\n",
    "        # Llenar los valores nulos con 0 y convertir la columna a tipo int\n",
    "        df[columna] = df[columna].fillna(0).astype(int)\n",
    "    else:\n",
    "        # Si no hay valores nulos, simplemente convertir la columna a tipo int\n",
    "        df[columna] = df[columna].astype(int)"
   ]
  },
  {
   "cell_type": "code",
   "execution_count": 5,
   "metadata": {},
   "outputs": [
    {
     "name": "stderr",
     "output_type": "stream",
     "text": [
      "/var/folders/l9/_6tgm3nj0n50mfclq6_lfbtc0000gn/T/ipykernel_37023/2713055797.py:2: UserWarning: Could not infer format, so each element will be parsed individually, falling back to `dateutil`. To ensure parsing is consistent and as-expected, please specify a format.\n",
      "  df['saledate'] = pd.to_datetime(df['saledate'], utc=True, errors='coerce').dt.date\n",
      "/var/folders/l9/_6tgm3nj0n50mfclq6_lfbtc0000gn/T/ipykernel_37023/2713055797.py:4: FutureWarning: A value is trying to be set on a copy of a DataFrame or Series through chained assignment using an inplace method.\n",
      "The behavior will change in pandas 3.0. This inplace method will never work because the intermediate object on which we are setting values always behaves as a copy.\n",
      "\n",
      "For example, when doing 'df[col].method(value, inplace=True)', try using 'df.method({col: value}, inplace=True)' or df[col] = df[col].method(value) instead, to perform the operation inplace on the original object.\n",
      "\n",
      "\n",
      "  df['saledate'].fillna(method='ffill', inplace=True)\n",
      "/var/folders/l9/_6tgm3nj0n50mfclq6_lfbtc0000gn/T/ipykernel_37023/2713055797.py:4: FutureWarning: Series.fillna with 'method' is deprecated and will raise in a future version. Use obj.ffill() or obj.bfill() instead.\n",
      "  df['saledate'].fillna(method='ffill', inplace=True)\n"
     ]
    }
   ],
   "source": [
    "# Convertir la columna 'saledate' de texto a fecha sin la parte de la hora\n",
    "df['saledate'] = pd.to_datetime(df['saledate'], utc=True, errors='coerce').dt.date\n",
    "\n",
    "df['saledate'].fillna(method='ffill', inplace=True)"
   ]
  },
  {
   "cell_type": "code",
   "execution_count": 6,
   "metadata": {},
   "outputs": [],
   "source": [
    "# Crea un diccionario con las nuevas asignaciones\n",
    "correcciones = {\n",
    "    \"transmission\": df[\"vin\"],\n",
    "    \"vin\": df[\"state\"],\n",
    "    \"state\": None,\n",
    "}\n",
    "\n",
    "# Filtra los registros donde 'transmission' es \"Sedan\"\n",
    "df_sedan = df[(df[\"transmission\"] == \"Sedan\") & (df[\"transmission\"] == \"sedan\")]\n",
    "\n",
    "# Actualiza las columnas en los registros filtrados\n",
    "for col, val in correcciones.items():\n",
    "    df_sedan[col] = val\n",
    "\n",
    "# Actualiza la columna 'state' en el DataFrame original\n",
    "df.loc[df_sedan.index, \"state\"] = df_sedan[\"state\"]"
   ]
  },
  {
   "cell_type": "code",
   "execution_count": 7,
   "metadata": {},
   "outputs": [],
   "source": [
    "load_dotenv(verbose=True)\n",
    "\n",
    "# Usa las variables de entorno cargadas\n",
    "DB_HOST = os.environ[\"DB_HOST\"]\n",
    "DB_DATABASE = os.environ[\"DB_DATABASE\"]\n",
    "DB_USER = os.environ[\"DB_USER\"]\n",
    "DB_PASSWORD = os.environ[\"DB_PASSWORD\"]"
   ]
  },
  {
   "cell_type": "code",
   "execution_count": 8,
   "metadata": {},
   "outputs": [],
   "source": [
    "# Conexión a la base de datos PostgreSQL\n",
    "conn = psycopg2.connect(\n",
    "    host=DB_HOST,\n",
    "    database=DB_DATABASE,\n",
    "    user=DB_USER,\n",
    "    password=DB_PASSWORD\n",
    ")"
   ]
  },
  {
   "cell_type": "code",
   "execution_count": 9,
   "metadata": {},
   "outputs": [],
   "source": [
    "# Crear un cursor\n",
    "cur = conn.cursor()\n",
    "\n",
    "\n",
    "# Convertir el DataFrame a formato CSV en memoria\n",
    "csv_buffer = StringIO()\n",
    "df.to_csv(csv_buffer, index=False, header=False)\n",
    "csv_buffer.seek(0)\n",
    "\n",
    "# Copiar los datos desde el CSV en memoria a la tabla en la base de datos\n",
    "cur.copy_from(csv_buffer, \"car_prices\", sep=',')\n",
    "\n"
   ]
  },
  {
   "cell_type": "code",
   "execution_count": 10,
   "metadata": {},
   "outputs": [],
   "source": [
    "# Consulta SQL para calcular la moda de 'model' agrupada por 'make', 'trim' y 'body'\n",
    "query_model = \"\"\"\n",
    "    UPDATE car_prices\n",
    "    SET model = subquery.mode_value\n",
    "    FROM (\n",
    "        SELECT make, trim, body, NULLIF(MODE() WITHIN GROUP (ORDER BY model), '') AS mode_value\n",
    "        FROM car_prices\n",
    "        GROUP BY make, trim, body\n",
    "    ) AS subquery\n",
    "    WHERE car_prices.make = subquery.make\n",
    "    AND car_prices.trim = subquery.trim\n",
    "    AND car_prices.body = subquery.body\n",
    "    AND car_prices.model IS NOT NULL\n",
    "\"\"\""
   ]
  },
  {
   "cell_type": "code",
   "execution_count": 11,
   "metadata": {},
   "outputs": [
    {
     "data": {
      "text/plain": [
       "'\\nquery_transmission = \"\"\"\\n    UPDATE car_prices\\n    SET transmission = subquery.mode_value\\n    FROM (\\n        SELECT model, NULLIF(MODE() WITHIN GROUP (ORDER BY transmission), \\'\\') AS mode_value\\n        FROM car_prices\\n        WHERE model IS NOT NULL\\n        GROUP BY model\\n    ) AS subquery\\n    WHERE car_prices.model = subquery.model\\n    AND car_prices.transmission IS NOT NULL\\n\"\"\"\\n'"
      ]
     },
     "execution_count": 11,
     "metadata": {},
     "output_type": "execute_result"
    }
   ],
   "source": [
    "'''\n",
    "query_transmission = \"\"\"\n",
    "    UPDATE car_prices\n",
    "    SET transmission = subquery.mode_value\n",
    "    FROM (\n",
    "        SELECT model, NULLIF(MODE() WITHIN GROUP (ORDER BY transmission), '') AS mode_value\n",
    "        FROM car_prices\n",
    "        WHERE model IS NOT NULL\n",
    "        GROUP BY model\n",
    "    ) AS subquery\n",
    "    WHERE car_prices.model = subquery.model\n",
    "    AND car_prices.transmission IS NOT NULL\n",
    "\"\"\"\n",
    "'''"
   ]
  },
  {
   "cell_type": "code",
   "execution_count": 12,
   "metadata": {},
   "outputs": [],
   "source": [
    "#Deletear registros que no voy a usar en mi analisis\n",
    "delete_query = \"\"\"\n",
    "    DELETE FROM car_prices\n",
    "    WHERE model IS NULL\n",
    "    AND make = ''\n",
    "    AND trim = '';\n",
    "\"\"\""
   ]
  },
  {
   "cell_type": "code",
   "execution_count": 13,
   "metadata": {},
   "outputs": [
    {
     "name": "stderr",
     "output_type": "stream",
     "text": [
      "/var/folders/l9/_6tgm3nj0n50mfclq6_lfbtc0000gn/T/ipykernel_37023/2571184703.py:17: UserWarning: pandas only supports SQLAlchemy connectable (engine/connection) or database string URI or sqlite3 DBAPI2 connection. Other DBAPI2 objects are not tested. Please consider using SQLAlchemy.\n",
      "  df_actualizado = pd.read_sql(\"SELECT * FROM car_prices\", conn)\n"
     ]
    }
   ],
   "source": [
    "# Defino consultas\n",
    "consultas = [query_model] #,query_transmission]\n",
    "\n",
    "# Ejecutar las consultas SQL\n",
    "with conn.cursor() as cursor:\n",
    "    for consulta in consultas:\n",
    "        cursor.execute(consulta)\n",
    "    # Confirmar la transacción después de ejecutar todas las consultas\n",
    "    conn.commit()\n",
    "\n",
    "    # Ejecutar la consulta SQL para eliminar registros\n",
    "    cursor.execute(delete_query)\n",
    "    # Confirmar la transacción después de eliminar registros\n",
    "    conn.commit()\n",
    "\n",
    "# Cargar los datos actualizados en un DataFrame de pandas\n",
    "df_actualizado = pd.read_sql(\"SELECT * FROM car_prices\", conn)"
   ]
  }
 ],
 "metadata": {
  "kernelspec": {
   "display_name": "my_project_env",
   "language": "python",
   "name": "python3"
  },
  "language_info": {
   "codemirror_mode": {
    "name": "ipython",
    "version": 3
   },
   "file_extension": ".py",
   "mimetype": "text/x-python",
   "name": "python",
   "nbconvert_exporter": "python",
   "pygments_lexer": "ipython3",
   "version": "3.12.0"
  }
 },
 "nbformat": 4,
 "nbformat_minor": 2
}
